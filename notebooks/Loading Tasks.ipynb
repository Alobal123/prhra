{
 "cells": [
  {
   "cell_type": "code",
   "execution_count": null,
   "metadata": {},
   "outputs": [],
   "source": [
    "import sys\n",
    "import os\n",
    "from typing import List\n",
    "\n",
    "import pandas as pd\n",
    "\n",
    "sys.path.append(os.path.abspath(os.path.join(os.getcwd(), '..')))\n",
    "from utils import TASKS"
   ]
  },
  {
   "cell_type": "markdown",
   "metadata": {},
   "source": [
    "## \"Polished\" code"
   ]
  },
  {
   "cell_type": "code",
   "execution_count": null,
   "metadata": {},
   "outputs": [],
   "source": [
    "class Task:\n",
    "    def __init__(self, index, d):\n",
    "        self.index = index\n",
    "        self.solution = d['solution']\n",
    "        self.hints = d['hints']\n",
    "        self.link = d['link']\n",
    "    \n",
    "    def __str__(self):\n",
    "        return f'''Task(index={self.index}, solution={self.solution}, hints={self.hints}, link={self.link})'''"
   ]
  },
  {
   "cell_type": "code",
   "execution_count": null,
   "metadata": {},
   "outputs": [],
   "source": [
    "def load_tasks(fname: str = TASKS) -> List[Task]:\n",
    "    tasks_data = pd.read_csv(TASKS, skiprows=1)\n",
    "    tasks_data = tasks_data.dropna(subset=['stručný popis úkolu'])\n",
    "    \n",
    "    def create_task(row: pd.Series) -> Task:\n",
    "        hints = [row['nápověda 1'], row['nápověda 2'], row['nápověda 3']]\n",
    "        return Task(row['číslo úkolu'], {'solution': row['správné řešení'], 'hints': hints, 'link': row['odkaz pro hráče (read-only)']})\n",
    "\n",
    "    return tasks_data.apply(create_task, axis=1).tolist()"
   ]
  },
  {
   "cell_type": "markdown",
   "metadata": {},
   "source": [
    "## Experiments"
   ]
  },
  {
   "cell_type": "code",
   "execution_count": null,
   "metadata": {},
   "outputs": [],
   "source": [
    "tasks = load_tasks()\n",
    "\n",
    "for task in tasks:\n",
    "    print(task)"
   ]
  },
  {
   "cell_type": "code",
   "execution_count": null,
   "metadata": {},
   "outputs": [],
   "source": [
    "tasks_data = pd.read_csv(TASKS, skiprows=1)\n",
    "tasks_data = tasks_data.dropna(subset=['stručný popis úkolu'])\n",
    "\n",
    "tasks_data"
   ]
  },
  {
   "cell_type": "code",
   "execution_count": null,
   "metadata": {},
   "outputs": [],
   "source": [
    "def create_task(row: pd.Series) -> Task:\n",
    "    hints = [row['nápověda 1'], row['nápověda 2'], row['nápověda 3']]\n",
    "    return Task(row['číslo úkolu'], {'solution': row['správné řešení'], 'hints': hints, 'link': row['odkaz pro hráče (read-only)']})\n",
    "\n",
    "tasks = tasks_data.apply(create_task, axis=1).tolist()\n",
    "\n",
    "for task in tasks:\n",
    "    print(task)"
   ]
  },
  {
   "cell_type": "code",
   "execution_count": null,
   "metadata": {},
   "outputs": [],
   "source": []
  }
 ],
 "metadata": {
  "kernelspec": {
   "display_name": "Python 3",
   "language": "python",
   "name": "python3"
  },
  "language_info": {
   "codemirror_mode": {
    "name": "ipython",
    "version": 3
   },
   "file_extension": ".py",
   "mimetype": "text/x-python",
   "name": "python",
   "nbconvert_exporter": "python",
   "pygments_lexer": "ipython3",
   "version": "3.8.2"
  }
 },
 "nbformat": 4,
 "nbformat_minor": 4
}
